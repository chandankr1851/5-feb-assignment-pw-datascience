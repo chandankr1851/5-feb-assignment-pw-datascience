{
 "cells": [
  {
   "cell_type": "code",
   "execution_count": null,
   "id": "e5a60b5e-812e-452d-92e4-d11f1788108a",
   "metadata": {},
   "outputs": [],
   "source": [
    "Q1. Explain Class and Object with respect to Object-Oriented Programming. Give a suitable example. Q2. Name the four pillars of OOPs. \n",
    "\n",
    "In Object-Oriented Programming (OOP), a class is a blueprint or template for creating objects, which are instances of the class. \n",
    "A class defines the attributes and methods that the objects of that class will have. Attributes are the data members of the class, \n",
    "which represent the state of the object, and methods are the functions that can be performed on the object.\n",
    "\n",
    "An object is an instance of a class. \n",
    "It is created using the blueprint provided by the class and has its own set of values for the attributes defined by the class. \n",
    "An object can call the methods defined by the class to perform actions."
   ]
  },
  {
   "cell_type": "code",
   "execution_count": 1,
   "id": "3c83ded6-1176-4929-8395-b490b7480516",
   "metadata": {},
   "outputs": [
    {
     "name": "stdout",
     "output_type": "stream",
     "text": [
      "Hello, my name is John and I am 25 years old.\n",
      "Hello, my name is Jane and I am 30 years old.\n"
     ]
    }
   ],
   "source": [
    "class Person:\n",
    "    def __init__(self, name, age):\n",
    "        self.name = name\n",
    "        self.age = age\n",
    "\n",
    "    def greet(self):\n",
    "        print(\"Hello, my name is\", self.name, \"and I am\", self.age, \"years old.\")\n",
    "\n",
    "person1 = Person(\"John\", 25)\n",
    "person2 = Person(\"Jane\", 30)\n",
    "\n",
    "person1.greet()\n",
    "person2.greet()\n"
   ]
  },
  {
   "cell_type": "code",
   "execution_count": null,
   "id": "e5aa3b2a-8e46-4fea-9a9c-e8ba93e4b2f6",
   "metadata": {},
   "outputs": [],
   "source": [
    "Q2. Name the four pillars of OOPs. \n",
    "\n",
    "The four pillars of Object-Oriented Programming are:\n",
    "\n",
    "1.Encapsulation: It is the process of hiding the internal details of an object from the outside world and providing a public interface to interact with the object. This helps to achieve data abstraction and information hiding.\n",
    "\n",
    "2.Inheritance: It is the mechanism by which one class can inherit the properties and methods of another class. This allows for the creation of hierarchical relationships between classes and facilitates code reuse.\n",
    "\n",
    "3.Polymorphism: It is the ability of an object to take on many forms. Polymorphism allows for the use of a single interface to represent multiple different types of objects.\n",
    "\n",
    "4.Abstraction: It is the process of simplifying complex real-world objects into more manageable representations in software. Abstraction is achieved by focusing on the essential features of an object and ignoring the non-essential details.\n"
   ]
  },
  {
   "cell_type": "code",
   "execution_count": null,
   "id": "1b80fb1c-ca94-431d-a56c-36e1d1ca8c19",
   "metadata": {},
   "outputs": [],
   "source": [
    "Q3. Explain why the __init__() function is used. Give a suitable example. "
   ]
  },
  {
   "cell_type": "code",
   "execution_count": null,
   "id": "fe73f7f5-93c6-449b-89ef-363ac294a494",
   "metadata": {},
   "outputs": [],
   "source": [
    "The __init__() function is a special method in Python that is called when an object of a class is created.\n",
    "\n",
    "It is used to initialize the attributes of the object with the values passed as arguments when the object is created.\n",
    "\n",
    "The __init__() function takes the self parameter as the first argument, which refers to the object being created.\n",
    "The remaining arguments are used to initialize the attributes of the object."
   ]
  },
  {
   "cell_type": "code",
   "execution_count": 2,
   "id": "044cbc65-7dd3-4ba6-ba25-fe08fdd0b0fa",
   "metadata": {},
   "outputs": [
    {
     "name": "stdout",
     "output_type": "stream",
     "text": [
      "Car 1 make: Toyota\n",
      "Car 1 model: Corolla\n",
      "Car 1 year: 2022\n",
      "Car 2 make: Honda\n",
      "Car 2 model: Civic\n",
      "Car 2 year: 2023\n"
     ]
    }
   ],
   "source": [
    "class Car:\n",
    "    def __init__(self, make, model, year):\n",
    "        self.make = make\n",
    "        self.model = model\n",
    "        self.year = year\n",
    "\n",
    "car1 = Car(\"Toyota\", \"Corolla\", 2022)\n",
    "car2 = Car(\"Honda\", \"Civic\", 2023)\n",
    "\n",
    "print(\"Car 1 make:\", car1.make)\n",
    "print(\"Car 1 model:\", car1.model)\n",
    "print(\"Car 1 year:\", car1.year)\n",
    "\n",
    "print(\"Car 2 make:\", car2.make)\n",
    "print(\"Car 2 model:\", car2.model)\n",
    "print(\"Car 2 year:\", car2.year)\n"
   ]
  },
  {
   "cell_type": "code",
   "execution_count": null,
   "id": "545f3ba6-1878-4ed3-be30-e9099b6bfb41",
   "metadata": {},
   "outputs": [],
   "source": [
    "4. Why self is used in OOPs? \n",
    "\n",
    "In object-oriented programming, the self parameter is used to refer to the current instance of a class. It is a reference to the object being manipulated or accessed by a method.\n",
    "\n",
    "The self parameter is used to access the attributes and methods of an object within the class. By using self, we can differentiate between the attributes and methods of the class and those of the instance of the class.\n",
    "\n",
    "For example, let's consider a class named Person that has attributes name and age, and a method named say_hello that prints a greeting message. We use self to access the attributes of the current instance and print them in the message:\n",
    "\n"
   ]
  },
  {
   "cell_type": "code",
   "execution_count": 3,
   "id": "bb0b7acf-72fc-495b-835e-e839969c44ef",
   "metadata": {},
   "outputs": [],
   "source": [
    "class Person:\n",
    "    def __init__(self, name, age):\n",
    "        self.name = name\n",
    "        self.age = age\n",
    "\n",
    "    def say_hello(self):\n",
    "        print(\"Hello, my name is {} and I am {} years old.\".format(self.name, self.age))\n"
   ]
  },
  {
   "cell_type": "code",
   "execution_count": null,
   "id": "8ecc7f32-1db3-4331-95bb-61d8101b56b3",
   "metadata": {},
   "outputs": [],
   "source": [
    "When we create an instance of the Person class, we pass in the name and age values as arguments. Then, we can call the say_hello method on the instance, and the message will contain the name and age of that specific instance."
   ]
  },
  {
   "cell_type": "code",
   "execution_count": 4,
   "id": "620609d3-69b8-4be6-b93e-f523cb0d5c9e",
   "metadata": {},
   "outputs": [
    {
     "name": "stdout",
     "output_type": "stream",
     "text": [
      "Hello, my name is John and I am 25 years old.\n",
      "Hello, my name is Sarah and I am 30 years old.\n"
     ]
    }
   ],
   "source": [
    "person1 = Person(\"John\", 25)\n",
    "person2 = Person(\"Sarah\", 30)\n",
    "\n",
    "person1.say_hello() # Output: Hello, my name is John and I am 25 years old.\n",
    "person2.say_hello() # Output: Hello, my name is Sarah and I am 30 years old.\n"
   ]
  },
  {
   "cell_type": "code",
   "execution_count": null,
   "id": "7dd4b913-6d93-46d9-8bb5-2419a3eaddb1",
   "metadata": {},
   "outputs": [],
   "source": [
    "Q5.What is inheritance? Give an example for each type of inheritance. \n"
   ]
  },
  {
   "cell_type": "code",
   "execution_count": null,
   "id": "0d0e25d6-389f-4574-8946-10e2c991b306",
   "metadata": {},
   "outputs": [],
   "source": [
    "Inheritance is a fundamental concept in object-oriented programming that allows a class to inherit properties and methods from a parent class. Inheritance creates a hierarchical relationship between classes, where the child class inherits the properties and behaviors of the parent class.\n",
    "\n",
    "There are four types of inheritance in Python:\n",
    "\n",
    "1.Single inheritance: In single inheritance, a child class inherits from a single parent class."
   ]
  },
  {
   "cell_type": "code",
   "execution_count": 5,
   "id": "26630f68-40a5-4c80-a084-f0e6790b1b10",
   "metadata": {},
   "outputs": [
    {
     "name": "stdout",
     "output_type": "stream",
     "text": [
      "Toyota\n",
      "Corolla\n",
      "Red\n",
      "Driving the vehicle...\n",
      "Parking the car...\n"
     ]
    }
   ],
   "source": [
    "class Vehicle:\n",
    "    def __init__(self, brand, model):\n",
    "        self.brand = brand\n",
    "        self.model = model\n",
    "    \n",
    "    def drive(self):\n",
    "        print(\"Driving the vehicle...\")\n",
    "\n",
    "class Car(Vehicle):\n",
    "    def __init__(self, brand, model, color):\n",
    "        super().__init__(brand, model)\n",
    "        self.color = color\n",
    "    \n",
    "    def park(self):\n",
    "        print(\"Parking the car...\")\n",
    "\n",
    "car1 = Car(\"Toyota\", \"Corolla\", \"Red\")\n",
    "print(car1.brand)   # Output: Toyota\n",
    "print(car1.model)   # Output: Corolla\n",
    "print(car1.color)   # Output: Red\n",
    "car1.drive()        # Output: Driving the vehicle...\n",
    "car1.park()         # Output: Parking the car...\n"
   ]
  },
  {
   "cell_type": "code",
   "execution_count": null,
   "id": "18719b34-7af0-4b47-8176-d59a990f1b1f",
   "metadata": {},
   "outputs": [],
   "source": [
    "2.Multiple inheritance: In multiple inheritance, a child class inherits from multiple parent classes."
   ]
  },
  {
   "cell_type": "code",
   "execution_count": 6,
   "id": "017d6991-db94-47d1-ae9a-af370decdd68",
   "metadata": {},
   "outputs": [
    {
     "name": "stdout",
     "output_type": "stream",
     "text": [
      "Name: John\n",
      "Age: 25\n",
      "Roll No: 1234\n",
      "Department: Computer Science\n"
     ]
    }
   ],
   "source": [
    "class Person:\n",
    "    def __init__(self, name, age):\n",
    "        self.name = name\n",
    "        self.age = age\n",
    "    \n",
    "    def info(self):\n",
    "        print(\"Name:\", self.name)\n",
    "        print(\"Age:\", self.age)\n",
    "\n",
    "class Student:\n",
    "    def __init__(self, roll_no, department):\n",
    "        self.roll_no = roll_no\n",
    "        self.department = department\n",
    "    \n",
    "    def info(self):\n",
    "        print(\"Roll No:\", self.roll_no)\n",
    "        print(\"Department:\", self.department)\n",
    "\n",
    "class StudentPerson(Person, Student):\n",
    "    def __init__(self, name, age, roll_no, department):\n",
    "        Person.__init__(self, name, age)\n",
    "        Student.__init__(self, roll_no, department)\n",
    "    \n",
    "    def info(self):\n",
    "        Person.info(self)\n",
    "        Student.info(self)\n",
    "\n",
    "student1 = StudentPerson(\"John\", 25, \"1234\", \"Computer Science\")\n",
    "student1.info()\n"
   ]
  },
  {
   "cell_type": "code",
   "execution_count": null,
   "id": "2d9b7f0a-21a9-4c36-9a75-aa40fe7e05f1",
   "metadata": {},
   "outputs": [],
   "source": [
    "3.Multilevel inheritance: In multilevel inheritance, a child class inherits from a parent class, which in turn inherits from another parent class."
   ]
  },
  {
   "cell_type": "code",
   "execution_count": null,
   "id": "7f2dc15c-3d4b-419c-90b2-d32ff16e7b7f",
   "metadata": {},
   "outputs": [],
   "source": []
  }
 ],
 "metadata": {
  "kernelspec": {
   "display_name": "Python 3 (ipykernel)",
   "language": "python",
   "name": "python3"
  },
  "language_info": {
   "codemirror_mode": {
    "name": "ipython",
    "version": 3
   },
   "file_extension": ".py",
   "mimetype": "text/x-python",
   "name": "python",
   "nbconvert_exporter": "python",
   "pygments_lexer": "ipython3",
   "version": "3.10.8"
  }
 },
 "nbformat": 4,
 "nbformat_minor": 5
}
